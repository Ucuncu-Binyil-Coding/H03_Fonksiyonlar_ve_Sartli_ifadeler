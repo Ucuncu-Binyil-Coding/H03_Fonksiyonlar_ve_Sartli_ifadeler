{
 "cells": [
  {
   "cell_type": "code",
   "execution_count": 4,
   "metadata": {},
   "outputs": [],
   "source": [
    "import random\n",
    "import string"
   ]
  },
  {
   "cell_type": "code",
   "execution_count": 200,
   "metadata": {},
   "outputs": [
    {
     "data": {
      "text/plain": [
       "['9 is odd', '8 is even', '2 is even', '1 is odd', '8 is even']"
      ]
     },
     "execution_count": 200,
     "metadata": {},
     "output_type": "execute_result"
    }
   ],
   "source": [
    "#SORU 1\n",
    "def odd_or_even(num:int) -> str:\n",
    "    return f\"{num} is \" + (\"odd\" if num % 2 == 1 else \"even\")\n",
    "\n",
    "[odd_or_even(int(random.random()*10)) for i in range(5)]"
   ]
  },
  {
   "cell_type": "code",
   "execution_count": null,
   "metadata": {},
   "outputs": [
    {
     "data": {
      "text/plain": [
       "['7 is int', 'l is str', 'f is str', '6 is int', 'd is str']"
      ]
     },
     "execution_count": 77,
     "metadata": {},
     "output_type": "execute_result"
    }
   ],
   "source": [
    "#SORU 2\n",
    "def num_or_string(char:str)-> str:\n",
    "    tipler = {\"int\":int,\"float\":float,\"str\":str}\n",
    "    for isim,tip in tipler.items():\n",
    "        try: tip(char)\n",
    "        except ValueError: pass\n",
    "        else: return f\"{char} is \" + isim\n",
    "\n",
    "    # tip = None\n",
    "    #     if tip: break\n",
    "    # return tip\n",
    "    # if not tip: tip = \"int\" if isinstance(char,str) else \"num\" if (isinstance(char,float) or isinstance(char,int)\n",
    "\n",
    "\n",
    "# [print(num_or_string(\"\".join([random.choice(string.digits+string.ascii_lowercase) for i in range(1)]))) for i in range(5)] #int(random.random()*10))) for i in range(5)]\n",
    "[num_or_string(random.choice(string.digits+string.ascii_lowercase)) for i in range(5)]"
   ]
  },
  {
   "cell_type": "code",
   "execution_count": 205,
   "metadata": {},
   "outputs": [
    {
     "data": {
      "text/plain": [
       "[([39, 0, 88], 88),\n",
       " ([30, 85, 10], 85),\n",
       " ([58, 67, 28], 67),\n",
       " ([51, 83, 8], 83),\n",
       " ([35, 92, 53], 92)]"
      ]
     },
     "execution_count": 205,
     "metadata": {},
     "output_type": "execute_result"
    }
   ],
   "source": [
    "#SORU 3\n",
    "def find_max(nums:list):\n",
    "    # if any([isinstance(num,int) or isinstance(num,float) for num in nums]): print(\"`num` is not int or float.\")\n",
    "    return (nums,max(nums))\n",
    "\n",
    "\n",
    "[find_max([int(random.random()*100) for x in range(3)]) for i in range(5)]"
   ]
  },
  {
   "cell_type": "code",
   "execution_count": 147,
   "metadata": {},
   "outputs": [
    {
     "data": {
      "text/plain": [
       "[(28, 'adult'), (95, 'old'), (47, 'adult'), (15, 'young'), (32, 'adult')]"
      ]
     },
     "execution_count": 147,
     "metadata": {},
     "output_type": "execute_result"
    }
   ],
   "source": [
    "#SORU 4\n",
    "def cat_by_age(age:int):\n",
    "    return tuple([age]+[\"young\" if age <20 else \"adult\" if age < 60 else \"old\"])\n",
    "\n",
    "[cat_by_age(int(random.random()*100)) for i in range(5)]"
   ]
  },
  {
   "cell_type": "code",
   "execution_count": 199,
   "metadata": {},
   "outputs": [
    {
     "data": {
      "text/plain": [
       "[[(81, 1.7, 28.03, 'fazla')],\n",
       " [(43, 2.04, 10.33, 'zayif')],\n",
       " [(84, 1.08, 72.02, 'obez')],\n",
       " [(67, 1.69, 23.46, 'normal')],\n",
       " [(98, 1.34, 54.58, 'obez')],\n",
       " [(77, 1.53, 32.89, 'obez')],\n",
       " [(105, 1.92, 28.48, 'fazla')],\n",
       " [(83, 1.81, 25.34, 'fazla')],\n",
       " [(33, 1.86, 9.54, 'zayif')],\n",
       " [(144, 1.9, 39.89, 'obez')]]"
      ]
     },
     "execution_count": 199,
     "metadata": {},
     "output_type": "execute_result"
    }
   ],
   "source": [
    "#SORU 5\n",
    "def calc_bmi(weight:int, height:float):\n",
    "    weight,height = round(weight),round(height,2)\n",
    "    bmi = round(weight / (height ** 2),2)\n",
    "    conds = [\"zayif\" if bmi < 18.5 else None,\"normal\" if 18.5 <= bmi < 24.9 else None,\"fazla\" if 25 <= bmi < 29.9 else None,\"obez\" if bmi > 29.9 else None]\n",
    "    if any(conds): return [(weight,height,bmi,x) for x in conds if x]\n",
    "    else: return (weight,height,bmi,\"insan değil\")\n",
    "\n",
    "\n",
    "[calc_bmi(random.randrange(20,150),random.randrange(100,210)/100) for i in range(10)]"
   ]
  }
 ],
 "metadata": {
  "kernelspec": {
   "display_name": "sanal_ortam",
   "language": "python",
   "name": "python3"
  },
  "language_info": {
   "codemirror_mode": {
    "name": "ipython",
    "version": 3
   },
   "file_extension": ".py",
   "mimetype": "text/x-python",
   "name": "python",
   "nbconvert_exporter": "python",
   "pygments_lexer": "ipython3",
   "version": "3.12.1"
  }
 },
 "nbformat": 4,
 "nbformat_minor": 2
}
