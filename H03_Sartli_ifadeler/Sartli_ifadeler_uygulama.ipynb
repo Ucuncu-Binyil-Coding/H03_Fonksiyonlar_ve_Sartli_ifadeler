{
 "cells": [
  {
   "cell_type": "markdown",
   "metadata": {
    "vscode": {
     "languageId": "plaintext"
    }
   },
   "source": [
    "##### Soru 1\n",
    "\n",
    "Bir okulda ğretmen olduğunuzu düşünelim ve öğrencilerin notlarını hesaplayacaksınız.\n",
    "\n",
    "A 90-100\n",
    "B 80-89\n",
    "C 70-79\n",
    "D 60-69\n",
    "f < 60\n",
    "\n",
    "Example grade: 1. 85, 2. 49"
   ]
  },
  {
   "cell_type": "code",
   "execution_count": 69,
   "metadata": {},
   "outputs": [],
   "source": [
    "import random\n",
    "def get_grade(score:float) -> (str,float):\n",
    "    \"\"\"Calculates the grade from the given student score\n",
    "    \n",
    "    Args:\n",
    "        score (int): Point of the student in float type.\n",
    "    \n",
    "    Returns:\n",
    "        grade (str): Single letter grade of the student based on the score.\n",
    "    \"\"\"\n",
    "    # assert score < 100,\"Parameter score must be lower that 100\"\n",
    "    if score < 100 and score >= 90:\n",
    "        grade = \"A\"\n",
    "    elif score >= 80:\n",
    "        grade = \"B\"\n",
    "    elif score >= 70:\n",
    "        grade = \"C\"\n",
    "    elif score >= 60:\n",
    "        grade = \"D\"\n",
    "    else:\n",
    "        grade = \"F\"\n",
    "    # return f\"Score was: {score}, and the grade is: {grade}\"\n",
    "    return grade,score\n",
    "\n",
    "# lol = [print(\"Score was: {}, and the grade is: {}\".format(get_grade(random.randrange(45,110)),end=\"\\n\\n\")) for i in range(5)]"
   ]
  },
  {
   "cell_type": "code",
   "execution_count": 97,
   "metadata": {},
   "outputs": [
    {
     "ename": "SyntaxError",
     "evalue": "closing parenthesis ']' does not match opening parenthesis '(' on line 24 (1077419000.py, line 26)",
     "output_type": "error",
     "traceback": [
      "\u001b[0;36m  Cell \u001b[0;32mIn[97], line 26\u001b[0;36m\u001b[0m\n\u001b[0;31m    ],\u001b[0m\n\u001b[0m    ^\u001b[0m\n\u001b[0;31mSyntaxError\u001b[0m\u001b[0;31m:\u001b[0m closing parenthesis ']' does not match opening parenthesis '(' on line 24\n"
     ]
    }
   ],
   "source": [
    "import string\n",
    "import random\n",
    "def cost_of_project(engraving:str,solid_gold=False) -> float:\n",
    "    \"\"\"Calculates the cost of a ring being produced based on material and letter count engraved within.\n",
    "    \n",
    "    Args:\n",
    "        engraving (str): String representation of the name\n",
    "        solid_gold (bool): if the ring is gold or not   \n",
    "\n",
    "    Returns:\n",
    "        cost (float): Cost of the ring.\n",
    "    \"\"\"\n",
    "    letter_count = len(engraving)\n",
    "    cost = 50.0 + (5.0 * letter_count) if not solid_gold else 100.0 + (10.0 * letter_count)\n",
    "\n",
    "    return cost\n",
    "\n",
    "# if solid_gold: \n",
    "#     cost += 10 * letter_count\n",
    "# else: \n",
    "#     cost += 5 * letter_count\n",
    "\n",
    "# name = \"\".join([random.choice(string.ascii_uppercase)]+[random.choice(string.ascii_uppercase) for i in range(random.randint(20))])\n",
    "lol = [cost_of_project(\"\".join([random.choice(string.ascii_uppercase)]+[random.choice(string.ascii_lowercase)] for i in range(random.randrange(5,20))) for i in range(random.randint(1,10))\n",
    "        random.choice([True,False])\n",
    "    ],"
   ]
  },
  {
   "cell_type": "code",
   "execution_count": null,
   "metadata": {},
   "outputs": [],
   "source": [
    "# Bir yemeğin kaç kalori olduğunu hesaplayan bir fonksiyon tanımlayın. 100 gram başına şeker, lif, ve protein oranına göre kaloriyi hesaplayın."
   ]
  },
  {
   "cell_type": "code",
   "execution_count": 74,
   "metadata": {},
   "outputs": [
    {
     "data": {
      "text/plain": [
       "800"
      ]
     },
     "execution_count": 74,
     "metadata": {},
     "output_type": "execute_result"
    }
   ],
   "source": [
    "def calc_calories(sugar:float,fiber:float,protein:float):\n",
    "    # per_gram_sugar = 153\n",
    "    # per_gram_fiber = 47.3\n",
    "    # per_gram_protein = 333\n",
    "\n",
    "    calories = 0\n",
    "    if sugar <= 5 and fiber < 100:\n",
    "        # şeker 5'den düşük ve fiber 100'den küçük\n",
    "        calories += 700\n",
    "    elif fiber > 100:\n",
    "        # şeker 5'den büyük ve fiber 100'den büyük\n",
    "        calories += 900\n",
    "    if sugar <= 5 and protein <= 10:\n",
    "        # şeker 5'den düşük ve protein 10'dan küçük\n",
    "        if fiber < 100:\n",
    "            # fiber de 100'den küçük\n",
    "            calories += 100\n",
    "        else:\n",
    "            # 100'den büyük\n",
    "            calories += 200\n",
    "    elif sugar > 10 and protein > 10:\n",
    "        # şeker 10'dan büyük ve protein 10'dan büyük\n",
    "        calories += 350\n",
    "    return calories\n",
    "\n",
    "calc_calories(3,12,1)\n",
    "\n",
    "    #     calories += (700/5) * sugar\n",
    "    # # sugar * per_gram_sugar + \n",
    "\n",
    "\n",
    "\n",
    "\n"
   ]
  },
  {
   "cell_type": "markdown",
   "metadata": {},
   "source": []
  },
  {
   "cell_type": "code",
   "execution_count": 21,
   "metadata": {},
   "outputs": [
    {
     "name": "stdout",
     "output_type": "stream",
     "text": [
      "Litre:32751\n",
      "(327510.0, 10.0)\n",
      "\n",
      "\n",
      "Litre:20527\n",
      "(123162.0, 6.0)\n",
      "\n",
      "\n",
      "Litre:13597\n",
      "(81582.0, 6.0)\n",
      "\n",
      "\n",
      "Litre:24541\n",
      "(171787.0, 7.0)\n",
      "\n",
      "\n",
      "Litre:31784\n",
      "(317840.0, 10.0)\n",
      "\n",
      "\n",
      "Litre:26982\n",
      "(188874.0, 7.0)\n",
      "\n",
      "\n"
     ]
    }
   ],
   "source": [
    "def getWaterBill(num_liters:float) -> float:\n",
    "    price_per_litre = 0\n",
    "    # tersden gelmek daha iyi olabilir\n",
    "    if num_liters < 8000.0:\n",
    "        price_per_litre = 5.0\n",
    "    elif num_liters < 22000.0:\n",
    "        price_per_litre = 6.0\n",
    "    elif num_liters < 30000.0:\n",
    "        price_per_litre = 7.0\n",
    "    elif num_liters >= 30000.0:\n",
    "        price_per_litre = 10.0\n",
    "    return num_liters * price_per_litre,price_per_litre\n",
    "import random\n",
    "lol = [print(f\"Litre:{litre}\\n{getWaterBill(litre)}\\n\\n\") for litre in [random.randint(5000,35000) for i in range(6)]]\n",
    "\n",
    "# getWaterBill(6000.0)"
   ]
  },
  {
   "cell_type": "code",
   "execution_count": 30,
   "metadata": {},
   "outputs": [
    {
     "data": {
      "text/plain": [
       "109.99999999999997"
      ]
     },
     "execution_count": 30,
     "metadata": {},
     "output_type": "execute_result"
    }
   ],
   "source": [
    "def get_net_bill(usage:float) -> float:\n",
    "    base_cost = 100.0 #15gb\n",
    "    per_100mb = base_cost * (usage - 15)\n",
    "    return base_cost + per_100mb\n",
    "\n",
    "get_net_bill(15.1)"
   ]
  }
 ],
 "metadata": {
  "kernelspec": {
   "display_name": "sanal_ortam",
   "language": "python",
   "name": "python3"
  },
  "language_info": {
   "codemirror_mode": {
    "name": "ipython",
    "version": 3
   },
   "file_extension": ".py",
   "mimetype": "text/x-python",
   "name": "python",
   "nbconvert_exporter": "python",
   "pygments_lexer": "ipython3",
   "version": "3.12.1"
  }
 },
 "nbformat": 4,
 "nbformat_minor": 2
}
