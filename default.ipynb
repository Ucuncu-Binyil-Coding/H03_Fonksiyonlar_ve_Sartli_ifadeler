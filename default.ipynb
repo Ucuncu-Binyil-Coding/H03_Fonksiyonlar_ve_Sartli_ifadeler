{
 "cells": [
  {
   "cell_type": "markdown",
   "metadata": {},
   "source": [
    "# INPUT -> TRANSFORM -> OUTPUT"
   ]
  },
  {
   "cell_type": "code",
   "execution_count": null,
   "metadata": {},
   "outputs": [],
   "source": [
    "import random\n",
    "from typing import get_type_hints"
   ]
  },
  {
   "cell_type": "code",
   "execution_count": null,
   "metadata": {},
   "outputs": [],
   "source": [
    "def type_checker(f):\n",
    "    \"\"\"\n",
    "    A decorator that verifies if the arguments of a function match the specified type.\n",
    "    @param f: the function\n",
    "    @return:\n",
    "    \"\"\"\n",
    "    def checker(*args, **kwargs):\n",
    "        hints = get_type_hints(f)\n",
    "\n",
    "        all_args = kwargs.copy()\n",
    "        all_args.update(dict(zip(f.__code__.co_varnames, args)))\n",
    "\n",
    "        # Check the args type\n",
    "        for arg_name, arg_value in all_args.items():\n",
    "            if arg_name in hints:\n",
    "                expected_type = hints[arg_name]\n",
    "                # If Union get values\n",
    "                if hasattr(expected_type, \"__origin__\") and expected_type.__origin__ == typing.Union:\n",
    "                    expected_type = expected_type.__args__\n",
    "                msg = f\"The `{arg_name}` parameter in `{f.__name__}` function should be an {expected_type} type. \" \\\n",
    "                    f\"A {type(arg_value)} type was passed instead.\"\n",
    "                assert isinstance(arg_value, expected_type), msg\n",
    "\n",
    "        output = f(*args, **kwargs)\n",
    "\n",
    "        # Check the output type if specified\n",
    "        output_type = hints.get('return', None)\n",
    "        if output_type:\n",
    "            msg = f\"The `{f.__name__}` function should return a {output_type}, \" \\\n",
    "                f\"but it's returning a {type(output)} instead. \" \\\n",
    "                \"Please ensure that the return type matches the expected type.\"\n",
    "            assert isinstance(output, output_type), msg\n",
    "        return output\n",
    "    return checker"
   ]
  }
 ],
 "metadata": {
  "kernelspec": {
   "display_name": "sanal_ortam",
   "language": "python",
   "name": "python3"
  },
  "language_info": {
   "name": "python",
   "version": "3.12.1"
  }
 },
 "nbformat": 4,
 "nbformat_minor": 2
}
