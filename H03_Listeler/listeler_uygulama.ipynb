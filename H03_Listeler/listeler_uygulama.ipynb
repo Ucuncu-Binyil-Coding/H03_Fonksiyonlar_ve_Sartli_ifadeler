{
 "cells": [
  {
   "cell_type": "code",
   "execution_count": 3,
   "metadata": {},
   "outputs": [
    {
     "data": {
      "text/plain": [
       "['makarna', 'supangle', 'kavrulmus coban salata']"
      ]
     },
     "execution_count": 3,
     "metadata": {},
     "output_type": "execute_result"
    }
   ],
   "source": [
    "menu = [\"makarna\",\"fasulye corbasi\",\"supangle\"]\n",
    "menu.append(\"kavrulmus coban salata\")\n",
    "menu.remove(\"fasulye corbasi\")\n",
    "menu\n"
   ]
  },
  {
   "cell_type": "code",
   "execution_count": 21,
   "metadata": {},
   "outputs": [
    {
     "name": "stdout",
     "output_type": "stream",
     "text": [
      "Rapor:\n",
      "    Ilk 7 gün toplam 1056 müşteri gelmiş.\n",
      "    Son 7 gün ortalama 157.0 müşteri gelmiş.\n",
      "    Son ayda en fazla 174 müşteri gelmiş. 5. gün.\n",
      "    Son ayda en az 126 müşteri gelmiş. 8. gün.\n"
     ]
    }
   ],
   "source": [
    "import numpy as np\n",
    "num_customers = [137, 147, 135, 128, 170, 174, 165, 146, 126, 159, 141, 148, 132, 147, 168, 153, 170, 161, 148, 152, 141, 151, 131, 149, 164, 163, 143, 143, 166, 171]\n",
    "\n",
    "first_week = sum(num_customers[:7])\n",
    "last_week = np.mean(num_customers[-7:])\n",
    "\n",
    "last_month_max = max(num_customers[-30:])\n",
    "last_month_min = min(num_customers[-30:])\n",
    "\n",
    "report = f\"\"\"Rapor:\n",
    "    Ilk 7 gün toplam {first_week} müşteri gelmiş.\n",
    "    Son 7 gün ortalama {last_week} müşteri gelmiş.\n",
    "    Son ayda en fazla {last_month_max} müşteri gelmiş. {num_customers.index(last_month_max)}. gün.\n",
    "    Son ayda en az {last_month_min} müşteri gelmiş. {num_customers.index(last_month_min)}. gün.\"\"\"\n",
    "print(report)"
   ]
  },
  {
   "cell_type": "code",
   "execution_count": 33,
   "metadata": {},
   "outputs": [
    {
     "name": "stdout",
     "output_type": "stream",
     "text": [
      "7 yıl öncesine göre 66.16% büyüme.\n"
     ]
    }
   ],
   "source": [
    "num_users = [920344, 1043553, 1204334, 1458996, 1503323, 1593432, 1623463, 1843064, 1930992, 2001078]\n",
    "years_ago = 7\n",
    "\n",
    "def percentage_growth(num_users:list,years_ago:int) -> float:\n",
    "    return round(100*(num_users[-1] - num_users[0-years_ago-1]) / num_users[0-years_ago-1],2)\n",
    "\n",
    "print(f\"{years_ago} yıl öncesine göre {percentage_growth(num_users,years_ago)}% büyüme.\")\n"
   ]
  }
 ],
 "metadata": {
  "kernelspec": {
   "display_name": "sanal_ortam",
   "language": "python",
   "name": "python3"
  },
  "language_info": {
   "codemirror_mode": {
    "name": "ipython",
    "version": 3
   },
   "file_extension": ".py",
   "mimetype": "text/x-python",
   "name": "python",
   "nbconvert_exporter": "python",
   "pygments_lexer": "ipython3",
   "version": "3.12.1"
  }
 },
 "nbformat": 4,
 "nbformat_minor": 2
}
